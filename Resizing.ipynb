{
 "cells": [
  {
   "cell_type": "code",
   "execution_count": 5,
   "metadata": {},
   "outputs": [],
   "source": [
    "import numpy as np\n",
    "\n",
    "from matplotlib.colors import LogNorm\n",
    "import matplotlib.pyplot as plt\n",
    "from astropy.visualization import astropy_mpl_style\n",
    "plt.style.use(astropy_mpl_style)\n",
    "from astropy.utils.data import get_pkg_data_filename\n",
    "from astropy.io import fits as fits\n",
    "\n",
    "from skimage import data, color, img_as_float\n",
    "from skimage.transform import resize\n",
    "\n",
    "import glob\n",
    "import os"
   ]
  },
  {
   "cell_type": "code",
   "execution_count": 6,
   "metadata": {},
   "outputs": [],
   "source": [
    "path = '/media/aleksandra/Data/DeepMerge/HackDTU/SB00_subdir_022/subdir_022/'\n",
    "path_save = '/media/aleksandra/Data/DeepMerge/HackDTU/resized_SB00/res_subdir_022/'\n",
    "\n",
    "for subdir, dirs, files in os.walk(path):\n",
    "    for file in files:\n",
    "        root, ext = os.path.splitext(file)\n",
    "        image_data = fits.getdata(os.path.join(subdir,file))\n",
    "        image_small = resize(image_data, (64,64), order=3, mode='symmetric', preserve_range=True)\n",
    "        np.save(os.path.join(path_save,'res_'+root), image_small)"
   ]
  },
  {
   "cell_type": "code",
   "execution_count": null,
   "metadata": {},
   "outputs": [],
   "source": []
  },
  {
   "cell_type": "code",
   "execution_count": 11,
   "metadata": {
    "scrolled": true
   },
   "outputs": [],
   "source": [
    "image_data = fits.getdata('snap068dir014sh128420cam00_WFC3-F160W_SB00.fits')\n",
    "image_data1 = fits.getdata('snap068dir018sh152207cam01_ACS-F814W_SB00.fits')"
   ]
  },
  {
   "cell_type": "code",
   "execution_count": null,
   "metadata": {},
   "outputs": [],
   "source": []
  },
  {
   "cell_type": "code",
   "execution_count": null,
   "metadata": {},
   "outputs": [],
   "source": [
    "image_resized = resize(image_data, (64,64), order=3, mode='symmetric', preserve_range=True)\n",
    "image_resized1 = resize(image_data1, (64,64), order=3, mode='symmetric', preserve_range=True)\n",
    "\n",
    "\n",
    "fig, axes = plt.subplots(nrows=2, ncols=2,figsize=(10,10))\n",
    "\n",
    "ax = axes.ravel()\n",
    "\n",
    "ax[0].imshow(image_data,  norm=LogNorm())\n",
    "ax[0].set_title(\"Original image 234\")\n",
    "\n",
    "ax[1].imshow(image_resized,  norm=LogNorm())\n",
    "ax[1].set_title(\"Resized 64\")\n",
    "\n",
    "\n",
    "ax[2].imshow(image_data1,  norm=LogNorm())\n",
    "ax[2].set_title(\"Original image 234\")\n",
    "\n",
    "ax[3].imshow(image_resized1,  norm=LogNorm())\n",
    "ax[3].set_title(\"Resized 64\")\n",
    "\n",
    "\n",
    "plt.tight_layout()\n",
    "plt.show()\n",
    "fig.savefig('resize.jpg')"
   ]
  },
  {
   "cell_type": "code",
   "execution_count": 205,
   "metadata": {},
   "outputs": [],
   "source": []
  },
  {
   "cell_type": "code",
   "execution_count": null,
   "metadata": {},
   "outputs": [],
   "source": [
    "image_file_old = get_pkg_data_filename('rebin_snap068dir000sh0cam00_WFC3-F105W_SB00.fits')\n",
    "image_data_old = fits.getdata(image_file_old)\n",
    "\n",
    "fig, axes = plt.subplots(nrows=1, ncols=2,figsize=(10,10))\n",
    "\n",
    "ax = axes.ravel()\n",
    "\n",
    "ax[0].imshow(image_data_old,  norm=LogNorm())\n",
    "ax[0].set_title(\"Old image\")\n",
    "\n",
    "ax[1].imshow(image_downscaled1,  norm=LogNorm())\n",
    "ax[1].set_title(\"Downscaled new image (no aliasing)\")\n",
    "\n",
    "\n",
    "plt.tight_layout()\n",
    "plt.show()\n",
    "fig.savefig('old_vs_new.jpg')"
   ]
  },
  {
   "cell_type": "code",
   "execution_count": 115,
   "metadata": {},
   "outputs": [],
   "source": [
    "X1 = np.load('res_snap068dir000sh0cam00_ACS-F435W_SB00.npy')\n",
    "X2 = np.load('res_snap068dir000sh0cam00_ACS-F814W_SB00.npy')\n",
    "X3 = np.load('res_snap068dir000sh0cam00_NC-F356W_SB00.npy')\n",
    "X4 = np.load('res_snap068dir000sh0cam00_WFC3-F160W_SB00.npy')"
   ]
  },
  {
   "cell_type": "code",
   "execution_count": null,
   "metadata": {},
   "outputs": [],
   "source": []
  },
  {
   "cell_type": "code",
   "execution_count": null,
   "metadata": {},
   "outputs": [],
   "source": []
  },
  {
   "cell_type": "code",
   "execution_count": null,
   "metadata": {},
   "outputs": [],
   "source": []
  }
 ],
 "metadata": {
  "kernelspec": {
   "display_name": "Python 3",
   "language": "python",
   "name": "python3"
  },
  "language_info": {
   "codemirror_mode": {
    "name": "ipython",
    "version": 3
   },
   "file_extension": ".py",
   "mimetype": "text/x-python",
   "name": "python",
   "nbconvert_exporter": "python",
   "pygments_lexer": "ipython3",
   "version": "3.6.6"
  }
 },
 "nbformat": 4,
 "nbformat_minor": 2
}
